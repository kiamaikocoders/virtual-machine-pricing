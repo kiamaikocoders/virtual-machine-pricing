{
 "cells": [
  {
   "cell_type": "code",
   "execution_count": null,
   "metadata": {
    "vscode": {
     "languageId": "plaintext"
    }
   },
   "outputs": [],
   "source": [
    "# Importing necessary libraries for data analysis and visualization\n",
    "import pandas as pd\n",
    "import numpy as np\n",
    "import matplotlib.pyplot as plt\n",
    "import seaborn as sns\n",
    "\n",
    "# Setting up visualization styles\n",
    "plt.style.use('seaborn-v0_8')\n",
    "\n",
    "print('Libraries imported successfully.')"
   ]
  },
  {
   "cell_type": "markdown",
   "metadata": {},
   "source": [
    "The libraries have been successfully imported, and the environment is ready for data analysis and visualization."
   ]
  },
  {
   "cell_type": "code",
   "execution_count": null,
   "metadata": {
    "vscode": {
     "languageId": "plaintext"
    }
   },
   "outputs": [],
   "source": [
    "# Loading the CSV file into a pandas DataFrame\n",
    "data = pd.read_csv('data-export.csv')\n",
    "\n",
    "# Displaying the first few rows to understand the structure of the data\n",
    "print(data.head())"
   ]
  },
  {
   "cell_type": "markdown",
   "metadata": {},
   "source": [
    "This code snippet reads a CSV file named 'data-export.csv' into a pandas DataFrame and displays the first few rows to understand its structure"
   ]
  },
  {
   "cell_type": "code",
   "execution_count": null,
   "metadata": {
    "vscode": {
     "languageId": "plaintext"
    }
   },
   "outputs": [],
   "source": [
    "# Getting basic information about the dataset\n",
    "print('Dataset Info:')\n",
    "print(data.info())\n",
    "print('\\\n",
    "Basic Statistics:')\n",
    "print(data.describe())"
   ]
  },
  {
   "cell_type": "markdown",
   "metadata": {},
   "source": [
    " calculating and print the number of missing values in each column of the dataset."
   ]
  },
  {
   "cell_type": "code",
   "execution_count": null,
   "metadata": {
    "vscode": {
     "languageId": "plaintext"
    }
   },
   "outputs": [],
   "source": [
    "# Checking for missing values in the dataset\n",
    "missing_values = data.isnull().sum()\n",
    "print('Missing Values in Each Column:')\n",
    "print(missing_values)"
   ]
  },
  {
   "cell_type": "markdown",
   "metadata": {},
   "source": [
    "This code snippet extracts discount percentages and region names from the 'bestPriceRegion' column in the DataFrame."
   ]
  },
  {
   "cell_type": "code",
   "execution_count": null,
   "metadata": {
    "vscode": {
     "languageId": "plaintext"
    }
   },
   "outputs": [],
   "source": [
    "# Extracting discount percentages from bestPriceRegion column\n",
    "data['discount'] = data['bestPriceRegion'].str.extract(r'(-?\\d+\\.?\\d*)%').astype(float)\n",
    "\n",
    "# Extracting region names\n",
    "data['region'] = data['bestPriceRegion'].str.extract(r'(.*?)\\s*/')[0]\n",
    "\n",
    "print('Sample of processed data with extracted discounts and regions:')\n",
    "print(data[['name', 'region', 'discount']].head())"
   ]
  },
  {
   "cell_type": "markdown",
   "metadata": {},
   "source": [
    "the initial data loading and preprocessing steps. Here's what we've found:\n",
    "\n",
    "The data is loaded and contains information about VM configurations including:\n",
    "Name of the VM\n",
    "Number of cores\n",
    "Memory in MB\n",
    "Linux and Windows pricing\n",
    "Best price region with discount\n",
    "Data quality checks show:\n",
    "919 total entries\n",
    "48 missing values in windowsPrice column\n",
    "All other columns are complete\n",
    "I've extracted:\n",
    "Discount percentages from the bestPriceRegion column\n",
    "Clean region names"
   ]
  },
  {
   "cell_type": "markdown",
   "metadata": {},
   "source": [
    "##Data visualization, focusing on price distributions and regional analysis."
   ]
  },
  {
   "cell_type": "code",
   "execution_count": null,
   "metadata": {
    "vscode": {
     "languageId": "plaintext"
    }
   },
   "outputs": [],
   "source": [
    "# Step 1: Visualizing price distributions for Linux and Windows\n",
    "plt.figure(figsize=(12, 6))\n",
    "sns.histplot(data['linuxPrice'], kde=True, color='blue', label='Linux Price', bins=30)\n",
    "sns.histplot(data['windowsPrice'], kde=True, color='orange', label='Windows Price', bins=30)\n",
    "plt.title('Price Distribution: Linux vs Windows')\n",
    "plt.xlabel('Price')\n",
    "plt.ylabel('Frequency')\n",
    "plt.legend()\n",
    "plt.show()"
   ]
  },
  {
   "cell_type": "markdown",
   "metadata": {},
   "source": [
    "create a histogram to compare the price distributions of Linux and Windows, overlaying their kernel density estimates."
   ]
  },
  {
   "cell_type": "markdown",
   "metadata": {},
   "source": [
    "The histogram above compares the price distributions for Linux and Windows, showing that Linux prices are generally lower and more concentrated, while Windows prices have a wider range."
   ]
  },
  {
   "cell_type": "code",
   "execution_count": null,
   "metadata": {
    "vscode": {
     "languageId": "plaintext"
    }
   },
   "outputs": [],
   "source": [
    "# Step 2: Analyzing regional discounts\n",
    "plt.figure(figsize=(14, 7))\n",
    "sns.boxplot(x='region', y='discount', data=data)\n",
    "plt.xticks(rotation=90)\n",
    "plt.title('Regional Discount Distribution')\n",
    "plt.xlabel('Region')\n",
    "plt.ylabel('Discount (%)')\n",
    "plt.show()"
   ]
  },
  {
   "cell_type": "markdown",
   "metadata": {},
   "source": [
    "The boxplot above shows the distribution of discounts across different regions, highlighting which regions offer the highest and most consistent discounts"
   ]
  },
  {
   "cell_type": "markdown",
   "metadata": {},
   "source": [
    "Step 3: Cost-effectiveness analysis by calculating price per core and price per MB of memory."
   ]
  },
  {
   "cell_type": "code",
   "execution_count": null,
   "metadata": {
    "vscode": {
     "languageId": "plaintext"
    }
   },
   "outputs": [],
   "source": [
    "# Step 3: Cost-effectiveness analysis\n",
    "# Calculating price per core and price per MB of memory for Linux and Windows\n",
    "data['price_per_core_linux'] = data['linuxPrice'] / data['numberOfCores']\n",
    "data['price_per_core_windows'] = data['windowsPrice'] / data['numberOfCores']\n",
    "data['price_per_mb_linux'] = data['linuxPrice'] / data['memoryInMB']\n",
    "data['price_per_mb_windows'] = data['windowsPrice'] / data['memoryInMB']\n",
    "\n",
    "# Displaying the first few rows of the updated dataset\n",
    "print('Updated dataset with cost-effectiveness metrics:')\n",
    "print(data[['name', 'price_per_core_linux', 'price_per_core_windows', 'price_per_mb_linux', 'price_per_mb_windows']].head())"
   ]
  },
  {
   "cell_type": "markdown",
   "metadata": {},
   "source": [
    "computes the price per core and price per MB of memory for Linux and Windows servers, and displays the updated dataset with these metrics."
   ]
  },
  {
   "cell_type": "markdown",
   "metadata": {},
   "source": [
    " visualize the above metrics to identify trends and compare cost-effectiveness across configurations."
   ]
  },
  {
   "cell_type": "code",
   "execution_count": null,
   "metadata": {
    "vscode": {
     "languageId": "plaintext"
    }
   },
   "outputs": [],
   "source": [
    "# Visualizing cost-effectiveness metrics\n",
    "plt.figure(figsize=(14, 7))\n",
    "sns.boxplot(data=[data['price_per_core_linux'], data['price_per_core_windows']], palette='Set2')\n",
    "plt.xticks([0, 1], ['Linux', 'Windows'])\n",
    "plt.title('Price per Core: Linux vs Windows')\n",
    "plt.ylabel('Price per Core')\n",
    "plt.show()\n",
    "\n",
    "plt.figure(figsize=(14, 7))\n",
    "sns.boxplot(data=[data['price_per_mb_linux'], data['price_per_mb_windows']], palette='Set2')\n",
    "plt.xticks([0, 1], ['Linux', 'Windows'])\n",
    "plt.title('Price per MB: Linux vs Windows')\n",
    "plt.ylabel('Price per MB')\n",
    "plt.show()"
   ]
  },
  {
   "cell_type": "markdown",
   "metadata": {},
   "source": [
    "The visualizations for cost-effectiveness metrics (price per core and price per MB) have been successfully generated, showing comparisons between Linux and Windows"
   ]
  }
 ],
 "metadata": {
  "language_info": {
   "name": "python"
  }
 },
 "nbformat": 4,
 "nbformat_minor": 2
}
